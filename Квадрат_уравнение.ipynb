{
 "cells": [
  {
   "cell_type": "markdown",
   "id": "d5614162-b6b4-4fbe-812b-660f5fa08bc1",
   "metadata": {
    "editable": true,
    "slideshow": {
     "slide_type": ""
    },
    "tags": []
   },
   "source": [
    "## **КВАДРАТНОЕ УРАВНЕНИЕ**\n",
    "Все мы в школе решали квадратное уравнение: ax ** 2 + bx + c = 0.\n",
    "\n",
    "Необходимо автоматизировать этот процесс и написать функцию для нахождения корней уравнения. Также реализуйте вспомогательную функцию для нахождения дискриминанта, основываясь на его свойствах:\n",
    "\n",
    "Если дискриминант < 0, то вывести «корней нет». Если дискриминант = 0, то вывести один корень. Если дискриминант > 0, то вывести два различных корня. Необходимо вывести решение для следующих коэффициентов:\n",
    "\n",
    "a = 1, b = 8, c = 15; a = 1, b = -13, c = 12; a = -4, b = 28, c = -49; a = 1, b = 1, c = 1."
   ]
  },
  {
   "cell_type": "code",
   "execution_count": 5,
   "id": "157f9ef0-c34f-4425-818c-28499e4be32d",
   "metadata": {
    "editable": true,
    "slideshow": {
     "slide_type": ""
    },
    "tags": []
   },
   "outputs": [],
   "source": [
    "def discriminant (a, b, c):\n",
    "    \"\"\"\n",
    "    функция для нахождения дискриминанта\n",
    "    \"\"\"\n",
    "    return b **2 - 4 * a * c\n",
    "\n",
    "\n",
    "def solution(a, b, c):\n",
    "    \"\"\"\n",
    "    функция для нахождения корней уравнения\n",
    "    \"\"\"\n",
    "    if discriminant(a, b, c) == 0:\n",
    "      x = -b / (2 * a)\n",
    "      return x\n",
    "    elif discriminant(a, b, c) > 0:\n",
    "      x_1 = (-b + discriminant(a, b, c) ** 0.5) / 2 * a\n",
    "      x_2 = (-b - discriminant(a, b, c) ** 0.5) / 2 * a\n",
    "      return x_1, x_2\n",
    "    else:\n",
    "      return 'корней нет'"
   ]
  }
 ],
 "metadata": {
  "kernelspec": {
   "display_name": "Python 3 (ipykernel)",
   "language": "python",
   "name": "python3"
  },
  "language_info": {
   "codemirror_mode": {
    "name": "ipython",
    "version": 3
   },
   "file_extension": ".py",
   "mimetype": "text/x-python",
   "name": "python",
   "nbconvert_exporter": "python",
   "pygments_lexer": "ipython3",
   "version": "3.12.7"
  }
 },
 "nbformat": 4,
 "nbformat_minor": 5
}
